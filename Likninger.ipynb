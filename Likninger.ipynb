{
 "cells": [
  {
   "cell_type": "markdown",
   "metadata": {},
   "source": [
    "# Likninger\n",
    "## Halveringsmetode"
   ]
  },
  {
   "cell_type": "code",
   "execution_count": 1,
   "metadata": {},
   "outputs": [
    {
     "name": "stdout",
     "output_type": "stream",
     "text": [
      "løsningen på likningen er x= 1.9999999999708962 og løkka gikk 34 ganger\n"
     ]
    }
   ],
   "source": [
    "a = 0 # start verdi\n",
    "b = 5 # sluttverdi\n",
    "tol = 1E-10 # toleranse\n",
    "n = 1000 # antall ganger løkka skal kjøre\n",
    "i = 0 # tellevariabel\n",
    "\n",
    "# definer funksjonen\n",
    "def f(x):\n",
    "    return x**2-x-2\n",
    "\n",
    "\n",
    "# halveringsmetoden\n",
    "c = (a+b)/2 # finner første halveringspungt\n",
    "while i < n and abs(f(c)) > tol:\n",
    "    if f(c) == 0:\n",
    "        a = b = c\n",
    "    elif f(a)*f(c) < 0:\n",
    "        b = c\n",
    "    else:\n",
    "        a = c\n",
    "    i += 1\n",
    "    c = (a+b)/2\n",
    "    \n",
    "print(\"løsningen på likningen er x=\", c, \"og løkka gikk\", i,\"ganger\")"
   ]
  },
  {
   "cell_type": "markdown",
   "metadata": {},
   "source": [
    "## Newtons metode"
   ]
  },
  {
   "cell_type": "code",
   "execution_count": 2,
   "metadata": {},
   "outputs": [
    {
     "name": "stdout",
     "output_type": "stream",
     "text": [
      "-2.169366798312714\n"
     ]
    }
   ],
   "source": [
    "# definer intervallet\n",
    "a = 1 # startverdien\n",
    "tol = 1E-10 # toleransen\n",
    "n = 1000 # antall iterasjoner\n",
    "i = 0 # tellevariabel\n",
    "c = 1 # nullpunktsvariablel\n",
    "\n",
    "# definerer funksjonen og den deriverte\n",
    "def f(x):\n",
    "    return x**5 - 5*x**3 -3\n",
    "    \n",
    "def fder(x):\n",
    "    return 5*x**4 - 15*x**2\n",
    "\n",
    "# newtons  metode\n",
    "while i <= n and abs(f(c)) >= tol:\n",
    "    c = a -f(a)/fder(a)\n",
    "    a = c\n",
    "    i += 1\n",
    "    \n",
    "print(c)"
   ]
  },
  {
   "cell_type": "markdown",
   "metadata": {},
   "source": [
    "## Kanon"
   ]
  },
  {
   "cell_type": "code",
   "execution_count": 3,
   "metadata": {},
   "outputs": [
    {
     "name": "stdout",
     "output_type": "stream",
     "text": [
      "Tid:  1.8348623853309842 3 Avstand:  28.60267388661259 3\n",
      "Tid:  2.1570101001559316 3 Avstand:  31.41104090516201 3\n",
      "Tid:  2.594887270409349 3 Avstand:  33.02752293577983 3\n",
      "Tid:  3.1780748763476776 3 Avstand:  28.602673887129104 3\n",
      "det tok 2.594887270409349 sekunder og den største avstanden var 33.02752293577983 meter\n"
     ]
    }
   ],
   "source": [
    "from pylab import *\n",
    "\n",
    "\n",
    "def y(t, v0, theta):\n",
    "    g = 9.81\n",
    "    return v0 * sin(theta) * t - 0.5 * g * t**2\n",
    "\n",
    "def yder(t, v0, theta):\n",
    "    g = 9.81\n",
    "    return v0 * sin(theta) - g * t\n",
    "\n",
    "def x(t, v0, theta):\n",
    "    return v0 * cos(theta) * t\n",
    "\n",
    "def newtons(f, fder, x, v0, theta, tol = 1E-8, N = 100):\n",
    "    i = 0\n",
    "    while abs(f(x, v0, theta)) > tol and i <= 100:\n",
    "        x = x - f(x, v0, theta)/fder(x, v0, theta)\n",
    "        i+=1\n",
    "    return x\n",
    "\n",
    "stor = 0\n",
    "stortid = 0\n",
    "thetaverdier = [pi/6, pi/5, pi/4, pi/3]\n",
    "\n",
    "for abc in thetaverdier:\n",
    "    tid = newtons(y, yder, 10, 18, abc)\n",
    "    m = x(tid, 18, abc)\n",
    "    print(\"Tid: \", tid, 3, \"Avstand: \", m, 3)\n",
    "    if m > stor:\n",
    "        stor = m\n",
    "        stortid = tid\n",
    "print(\"det tok\", stortid,\"sekunder \" \"og den største avstanden var\", stor,\"meter\")"
   ]
  },
  {
   "cell_type": "markdown",
   "metadata": {},
   "source": [
    "Problemet med å sammelikne programmet med virkeligheten var at vi aldri hadde gjort noe liknene og utstyret holdt på å kollapse."
   ]
  },
  {
   "cell_type": "code",
   "execution_count": null,
   "metadata": {},
   "outputs": [],
   "source": []
  }
 ],
 "metadata": {
  "kernelspec": {
   "display_name": "Python 3",
   "language": "python",
   "name": "python3"
  },
  "language_info": {
   "codemirror_mode": {
    "name": "ipython",
    "version": 3
   },
   "file_extension": ".py",
   "mimetype": "text/x-python",
   "name": "python",
   "nbconvert_exporter": "python",
   "pygments_lexer": "ipython3",
   "version": "3.7.3"
  }
 },
 "nbformat": 4,
 "nbformat_minor": 2
}
