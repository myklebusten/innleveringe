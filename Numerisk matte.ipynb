{
 "cells": [
  {
   "cell_type": "markdown",
   "metadata": {},
   "source": [
    "# Numerisk mattematikk 1\n",
    "## Numerisk derivasjon"
   ]
  },
  {
   "cell_type": "markdown",
   "metadata": {},
   "source": [
    "a) En sekant er en kurve som skjære gjennom hvertfall 2 punkter på en graf. Den deriverte i et punkt er å finne monentan stigningstallet. derfor kan k skrives som definisjon av den deriverte.\n",
    "\n",
    "b) En tagent er en linsje som treffer grafen i et pungt.\n",
    "\n",
    "$$f'(a) = \\lim_{\\Delta x \\to 0}\\frac{f(x + \\Delta a) - f(x)}{\\Delta x}$$\n",
    "\n",
    "c) Dervivasjon er en operasjon i matte som brukes for å studere endringer i ulike verdier.\n",
    "\n",
    "d) Forkjellen mellom newtons kvotien og definasjonen av den deriverte er når h går imot infitesimal\n",
    "\n",
    "$$f'(x) = \\frac{f(x + h a) - f(x)}{h}$$\n",
    "\n",
    "kilder:\n",
    "\n",
    "Marthin Aleksander Dahl Folmo\n",
    "\n",
    "Simen Littorin Birkeland\n",
    "\n",
    "Julia Margrete Mykland\n"
   ]
  },
  {
   "cell_type": "markdown",
   "metadata": {},
   "source": []
  },
  {
   "cell_type": "code",
   "execution_count": null,
   "metadata": {},
   "outputs": [],
   "source": []
  }
 ],
 "metadata": {
  "kernelspec": {
   "display_name": "Python 3",
   "language": "python",
   "name": "python3"
  },
  "language_info": {
   "codemirror_mode": {
    "name": "ipython",
    "version": 3
   },
   "file_extension": ".py",
   "mimetype": "text/x-python",
   "name": "python",
   "nbconvert_exporter": "python",
   "pygments_lexer": "ipython3",
   "version": "3.7.3"
  }
 },
 "nbformat": 4,
 "nbformat_minor": 2
}
